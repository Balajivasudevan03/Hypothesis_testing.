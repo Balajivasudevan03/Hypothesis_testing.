{
  "nbformat": 4,
  "nbformat_minor": 0,
  "metadata": {
    "colab": {
      "provenance": [],
      "authorship_tag": "ABX9TyM938M1fymryz5FaSViEez9",
      "include_colab_link": true
    },
    "kernelspec": {
      "name": "python3",
      "display_name": "Python 3"
    },
    "language_info": {
      "name": "python"
    }
  },
  "cells": [
    {
      "cell_type": "markdown",
      "metadata": {
        "id": "view-in-github",
        "colab_type": "text"
      },
      "source": [
        "<a href=\"https://colab.research.google.com/github/Balajivasudevan03/Hypothesis_testing./blob/main/hypothesis_code_documentation.ipynb\" target=\"_parent\"><img src=\"https://colab.research.google.com/assets/colab-badge.svg\" alt=\"Open In Colab\"/></a>"
      ]
    },
    {
      "cell_type": "code",
      "execution_count": null,
      "metadata": {
        "id": "9YhhkjFRDI3D"
      },
      "outputs": [],
      "source": [
        "#Z-test\n",
        "# import a library to perform a Z-test\n",
        "from statsmodels.stats import weightstats as stests\n",
        "from scipy import stats\n",
        "\n",
        "\n",
        "z_score, pval = stests.ztest(x1 = M1_data, x2 = M2_data, value = 0, alternative = 'two-sided')\n",
        "\n",
        "# print the test statistic and corresponding p-value\n",
        "print(\"Z-score: \", z_score)\n",
        "print(\"p-value: \", pval)\n",
        "\n",
        "\n",
        "alpha = 0.01\n",
        "\n",
        "if pval < alpha:\n",
        "  print(\"Reject the null hypothesis, (i.e, The recovery time of two medicines are different)\")\n",
        "else:\n",
        "  print(\"Fail to reject the null hypothesis  (i.e, The recovery time of two medicines are same)\")"
      ]
    },
    {
      "cell_type": "code",
      "source": [
        "# Another example of Z-test\n",
        "\n",
        "import numpy as np\n",
        "from scipy import stats\n",
        "\n",
        "\n",
        "# Null hypothesis: The population means of fuel efficiency for Engine X and Engine Y are the same.\n",
        "# Alternative hypothesis: One engine type is more fuel-efficient than the other.\n",
        "\n",
        "# Define the function to calculate the test statistic and corresponding p-value\n",
        "def TwoSampZTest(samp_mean_1, samp_mean_2, samp_std_1, samp_std_2, n1, n2):\n",
        "  # Calculate the test statistic\n",
        "  denominator = np.sqrt((samp_std_1**2 / n1) + (samp_std_2**2 / n2))\n",
        "  z_score = (samp_mean_1 - samp_mean_2) / denominator\n",
        "  return z_score\n",
        "\n",
        "\n",
        "# Given data\n",
        "sample_mean_X = 30 # Average fuel efficiency for Group X (Engine X)\n",
        "sample_mean_Y = 32 # Average fuel efficiency for Group Y (Engine Y)\n",
        "sample_std_X = 3 # Standard deviation for Group X\n",
        "sample_std_Y = 2.5 # Standard deviation for Group Y\n",
        "significance_level = 0.05\n",
        "sample_size_X = 50 # Sample size for Group X\n",
        "sample_size_Y = 60 # Sample size for Group Y\n",
        "\n",
        "\n",
        "# Calculate the z-score using the function\n",
        "z_score = TwoSampZTest(sample_mean_X, sample_mean_Y, sample_std_X, sample_std_Y, sample_size_X, sample_size_Y)\n",
        "\n",
        "# Calculate the two-tailed p-value\n",
        "p_value = 2 * (1 - stats.norm.cdf(abs(z_score)))\n",
        "\n",
        "# A two-tailed z-test considers deviations from the null hypothesis in both positive and negative directions.\n",
        "# Using abs(z_score) ignores the sign of the deviation, focusing solely on its magnitude, ensuring we consider both directions and calculate the accurate two-tailed p-value.\n",
        "\n",
        "# Compare the p-value to the significance level\n",
        "if p_value < significance_level:\n",
        "  conclusion = \"Reject the null hypothesis. Engine Y is more fuel-efficient.\"\n",
        "else:\n",
        "  conclusion = \"Fail to reject the null hypothesis. No significant difference in fuel efficiency.\"\n",
        "\n",
        "print(f'z-score: {z_score:.4f}')\n",
        "print(f'p-value: {p_value:.4f}')\n",
        "print('Conclusion:', conclusion)"
      ],
      "metadata": {
        "id": "JEgx0YGKJi1o"
      },
      "execution_count": null,
      "outputs": []
    },
    {
      "cell_type": "markdown",
      "source": [],
      "metadata": {
        "id": "s5SxyIY-MlrE"
      }
    },
    {
      "cell_type": "code",
      "source": [
        "Z = (p_hat - p) / np.sqrt((p * (1 - p)) / n) #one sample Z-propotion test"
      ],
      "metadata": {
        "id": "Rkf79vWRJi6h"
      },
      "execution_count": null,
      "outputs": []
    },
    {
      "cell_type": "code",
      "source": [
        "p_value = 2 * (1 - stats.norm.cdf(np.abs(Z))) # two-tailed"
      ],
      "metadata": {
        "id": "XgBuWIdeJi9x"
      },
      "execution_count": null,
      "outputs": []
    },
    {
      "cell_type": "code",
      "source": [
        "import numpy as np\n",
        "import scipy.stats as stats\n",
        "\n",
        "# Define the data\n",
        "# Number of satisfied customers\n",
        "satisfied_customers = 115\n",
        "# Total number of customers in the sample\n",
        "total_customers = 150\n",
        "\n",
        "# Specify the target satisfaction level (null hypothesis)\n",
        "target_satisfaction = 0.70  # 70%\n",
        "\n",
        "# Define the hypotheses\n",
        "# Null Hypothesis (H0): The proportion of satisfied customers is equal to the target satisfaction level.\n",
        "# Alternative Hypothesis (Ha): The proportion of satisfied customers is not equal to the target satisfaction level.\n",
        "p = target_satisfaction\n",
        "\n",
        "# Calculate the test statistic (Z)\n",
        "# p_hat = sample proportion\n",
        "p_hat = satisfied_customers / total_customers\n",
        "n = total_customers\n",
        "Z = (p_hat - p) / np.sqrt((p * (1 - p)) / n)\n",
        "\n",
        "# Interpret the test statistic\n",
        "# Z follows a standard normal distribution. We will calculate the two-tailed p-value next.\n",
        "\n",
        "#Calculate the p-value\n",
        "p_value = 2 * (1 - stats.norm.cdf(np.abs(Z)))\n",
        "\n",
        "# Print the results\n",
        "print(f\"Z-statistic = {Z}\")\n",
        "print(f\"P-value = {p_value}\")\n",
        "\n",
        "\n",
        "alpha = 0.05  # Significance level\n",
        "if p_value < alpha:\n",
        "    decision = \"Reject the null hypothesis\"\n",
        "else:\n",
        "    decision = \"Fail to reject the null hypothesis\"\n",
        "\n",
        "if decision == \"Reject the null hypothesis\":\n",
        "    conclusion = \"There is enough evidence to conclude that the proportion of satisfied customers with the new product is statistically different from the target satisfaction level.\"\n",
        "else:\n",
        "    conclusion = \"There is not enough evidence to conclude that the proportion of satisfied customers with the new product is statistically different from the target satisfaction level.\"\n",
        "\n",
        "# Print the results\n",
        "print(f\"Decision: {decision}\")\n",
        "print(f\"Conclusion: {conclusion}\")"
      ],
      "metadata": {
        "id": "wAUTgsjWNgYm"
      },
      "execution_count": null,
      "outputs": []
    },
    {
      "cell_type": "code",
      "source": [
        "# two sample propotion Z-test\n",
        "\n",
        "import statsmodels.api as sm\n",
        "import numpy as np\n",
        "\n",
        "# Define the data\n",
        "conversions = np.array([50, 30])  # Number of conversions for Web Page A and Web Page B\n",
        "visits = np.array([1000, 500])  # Number of visits for Web Page A and Web Page B\n",
        "\n",
        "# Perform the Z-proportions test\n",
        "z_stat, p_value = sm.stats.proportions_ztest(conversions, visits, alternative='two-sided')\n",
        "\n",
        "# Print the results\n",
        "print(f\"Z-statistic = {z_stat}\")\n",
        "print(f\"P-value = {p_value}\")"
      ],
      "metadata": {
        "id": "60pMdJ6LPVVu"
      },
      "execution_count": null,
      "outputs": []
    },
    {
      "cell_type": "code",
      "source": [
        "# two sample propotion Z-test\n",
        "\n",
        "import numpy as np\n",
        "import scipy.stats as stats\n",
        "\n",
        "# Step 1: Define the data\n",
        "# Data for the old web page (Web Page A)\n",
        "visits_1 = 1000\n",
        "conversions_1 = 50\n",
        "\n",
        "# Data for the new web page (Web Page B)\n",
        "visits_2 = 500\n",
        "conversions_2 = 30\n",
        "\n",
        "# Step 2: Define the hypotheses\n",
        "# Null Hypothesis (H0): Conversion rates are the same.\n",
        "# Alternative Hypothesis (Ha): Conversion rates are different.\n",
        "# This is a two-tailed test.\n",
        "p_1 = conversions_1 / visits_1\n",
        "p_2 = conversions_2 / visits_2\n",
        "\n",
        "# p_hat: is the combined sample proportion for both web pages.\n",
        "p_hat = (conversions_1 + conversions_2) / (visits_1 + visits_2)\n",
        "\n",
        "# Step 3: Calculate the test statistic (Z)\n",
        "Z = (p_1 - p_2) / np.sqrt(p_hat * (1 - p_hat) * ((1 / visits_1) + (1 / visits_2)))\n",
        "\n",
        "# Step 4: Interpret the test statistic\n",
        "# Z follows a standard normal distribution. We will calculate the two-tailed p-value next.\n",
        "\n",
        "# Step 5: Calculate the p-value\n",
        "p_value = 2 * (1 - stats.norm.cdf(np.abs(Z)))\n",
        "\n",
        "# Print the results\n",
        "print(f\"Z = {Z}\")\n",
        "print(f\"P-value = {p_value}\")\n",
        "\n",
        "\n",
        "# Make a decision and conclusion\n",
        "if p_value < alpha:\n",
        "    decision = \"Reject the null hypothesis\"\n",
        "else:\n",
        "    decision = \"Fail to reject the null hypothesis\"\n",
        "\n",
        "if decision == \"Reject the null hypothesis\":\n",
        "    conclusion = \"There is enough evidence to conclude that the conversion rates of the new web page (Web Page B) are statistically different from the old web page (Web Page A).\"\n",
        "else:\n",
        "    conclusion = \"There is not enough evidence to conclude that the conversion rates of the new web page (Web Page B) are statistically different from the old web page (Web Page A).\"\n",
        "\n",
        "# Print the results\n",
        "print(f\"Decision: {decision}\")\n",
        "print(f\"Conclusion: {conclusion}\")"
      ],
      "metadata": {
        "id": "HilcswwSNghO"
      },
      "execution_count": null,
      "outputs": []
    },
    {
      "cell_type": "code",
      "source": [
        "# T-test\n",
        "# 1-sample t-test\n",
        "\n",
        "from scipy.stats import ttest_1samp\n",
        "\n",
        "t_stat, pvalue = ttest_1samp(iq_scores, 100)\n",
        "t_stat, pvalue\n",
        "\n",
        "alpha = 0.01 # 99% confidence\n",
        "\n",
        "if pvalue < alpha:\n",
        "  print('Reject H0; Pill has effect')\n",
        "else:\n",
        "  print ('Fail to Reject H0; Pill has NO effect')"
      ],
      "metadata": {
        "id": "ztvEw-_WNgkX"
      },
      "execution_count": null,
      "outputs": []
    },
    {
      "cell_type": "code",
      "source": [
        "from scipy.stats import ttest_ind  # two sample T-test_ind\n",
        "\n",
        "t_stat, pvalue = ttest_ind(iq_1, iq_2)\n",
        "t_stat, pvalue\n",
        "\n",
        "alpha = 0.05 # 95% confidence\n",
        "\n",
        "if pvalue < alpha:\n",
        "  print('Reject H0')\n",
        "else:\n",
        "  print ('Fail to Reject H0')"
      ],
      "metadata": {
        "id": "0ZrRLwY2Ngnw"
      },
      "execution_count": null,
      "outputs": []
    },
    {
      "cell_type": "code",
      "source": [
        "t_stat, pvalue = ttest_ind(iq_1, iq_2, alternative = \"greater\")\n",
        "t_stat, pvalue\n",
        "\n",
        "\n",
        "t_stat, pvalue = ttest_ind(iq_1, iq_2, alternative = \"less\")\n",
        "t_stat, pvalue\n",
        "\n",
        "\n",
        "t_stat, pvalue = ttest_ind(df_first_innings['runs'], df_second_innings['runs'], alternative = \"greater\")\n",
        "t_stat, pvalue"
      ],
      "metadata": {
        "id": "k9_PT7gONgxL"
      },
      "execution_count": null,
      "outputs": []
    },
    {
      "cell_type": "code",
      "source": [
        "# Two sample rel_t-test\n",
        "\n",
        "from scipy.stats import ttest_rel\n",
        "\n",
        "statistic, pvalue = ttest_rel(df_ps[\"test_1\"], df_ps[\"test_2\"])\n",
        "print(\"Test statistic:\",statistic)\n",
        "print(\"pvalue:\",pvalue)\n",
        "\n",
        "alpha = 0.05 # 95% confidence\n",
        "\n",
        "if pvalue < alpha:\n",
        "  print('Reject H0')\n",
        "else:\n",
        "  print ('Fail to Reject H0')"
      ],
      "metadata": {
        "id": "6nB6JdKhUqQl"
      },
      "execution_count": null,
      "outputs": []
    },
    {
      "cell_type": "code",
      "source": [
        "# H0: Problem solving has no effect\n",
        "# Ha: Problem solving improved the scores\n",
        "\n",
        "statistic, pvalue = ttest_rel(df_ps[\"test_1\"], df_ps[\"test_2\"],alternative=\"less\")\n",
        "print(\"Test statistic:\",statistic)\n",
        "print(\"pvalue:\",pvalue)"
      ],
      "metadata": {
        "id": "dCeCcZlxVI-p"
      },
      "execution_count": null,
      "outputs": []
    },
    {
      "cell_type": "code",
      "source": [
        "# H0: Problem solving has no effect\n",
        "# Ha: Problem solving deteriorated the scores\n",
        "\n",
        "statistic, pvalue = ttest_rel(df_ps[\"test_1\"], df_ps[\"test_2\"],alternative=\"greater\")\n",
        "print(\"Test statistic:\",statistic)\n",
        "print(\"pvalue:\",pvalue)"
      ],
      "metadata": {
        "id": "SOt_oObCVP-l"
      },
      "execution_count": null,
      "outputs": []
    },
    {
      "cell_type": "code",
      "source": [
        "# chi-squared- test\n",
        "\n",
        "import numpy as np\n",
        "import pandas as pd\n",
        "import seaborn as sns\n",
        "import matplotlib.pyplot as plt\n",
        "\n",
        "from scipy.stats import chisquare # Statistical test (chistat, pvalue)\n",
        "from scipy.stats import chi2\n",
        "\n",
        "\n",
        "chi_stat, p_value = chisquare(\n",
        "    [28, 22], # Observed or actual\n",
        "    [25, 25], # Expected\n",
        ")\n",
        "print(\"p_value:\",p_value)\n",
        "print(\"chi_stat:\",chi_stat)\n",
        "\n",
        "\n",
        "alpha = 0.05\n",
        "\n",
        "if p_value < alpha:\n",
        "    print(\"Reject H0\")\n",
        "    print(\"Coin is baised\")\n",
        "else:\n",
        "    print(\"Fail to reject H0\")\n",
        "    print(\"Coin is fair\")"
      ],
      "metadata": {
        "id": "sieH3zbbVbK8"
      },
      "execution_count": null,
      "outputs": []
    },
    {
      "cell_type": "code",
      "source": [
        "# chi-squared test for independence\n",
        "\n",
        "observed = [\n",
        "    [527, 72],\n",
        "    [206, 102],]\n",
        "\n",
        "chi_stat, p_value, df, exp_freq = chi2_contingency(observed) # chi_stat, p_value, df, expected values\n",
        "print(\"chi_stat:\",chi_stat)\n",
        "print(\"p_value:\",p_value)\n",
        "print(\"df:\",df)\n",
        "print(\"exp_freq:\",exp_freq)"
      ],
      "metadata": {
        "id": "fRTItqzgVbOu"
      },
      "execution_count": null,
      "outputs": []
    },
    {
      "cell_type": "code",
      "source": [
        "gender_product = pd.crosstab(index=df_aerofit['Gender'],columns=df_aerofit['Product'])\n",
        "gender_product\n",
        "\n",
        "chi_stat, p_value, df, exp_freq = chi2_contingency(gender_product) # chi_stat, p_value, df, expected value\n",
        "\n",
        "print(\"chi_stat:\",chi_stat)\n",
        "print(\"p_value:\",p_value)\n",
        "print(\"df:\",df)\n",
        "print(\"exp_freq:\",exp_freq)\n",
        "\n",
        "alpha = 0.05\n",
        "\n",
        "if p_value < alpha:\n",
        "    print(\"Reject H0\")\n",
        "    print(\"Gender impacts product\")\n",
        "else:\n",
        "    print(\"Fail to reject H0\")\n",
        "    print(\"Gender does not impact product\")"
      ],
      "metadata": {
        "id": "3DSu_f5TVbS3"
      },
      "execution_count": null,
      "outputs": []
    },
    {
      "cell_type": "code",
      "source": [
        "# one-way Anova test\n",
        "\n",
        "np.random.seed(42)\n",
        "df_aerofit[\"random_group\"] = np.random.choice([\"g1\", \"g2\", \"g3\"], size=len(df_aerofit))\n",
        "\n",
        "from scipy.stats import f_oneway # Numeric Vs categorical for many categories\n",
        "from scipy.stats import ttest_ind # Numeric Vs categorical\n",
        "\n",
        "from statsmodels.graphics.gofplots import qqplot\n",
        "\n",
        "# H0: All groups have the same mean\n",
        "# Ha: One or more groups have different mean\n",
        "f_stats, p_value = f_oneway(income_g1, income_g2, income_g3)\n",
        "\n",
        "print(\"test statistic:\",f_stats)\n",
        "print(\"p_value:\",p_value)\n",
        "\n",
        "if p_value < 0.05:\n",
        "    print(\"Reject H0\")\n",
        "    print(\"Atleast one group have different mean\")\n",
        "else:\n",
        "    print(\"Fail to reject H0\")\n",
        "    print(\"All groups have same mean\")\n",
        "\n",
        "\n",
        "f_stats, p_value = f_oneway(income_kp281, income_kp481, income_kp781)\n",
        "\n",
        "print(\"test statistic:\",f_stats)\n",
        "print(\"p_value:\",p_value)\n",
        "\n",
        "\n",
        "if p_value < 0.05:\n",
        "    print(\"Reject H0\")\n",
        "    print(\"Atleast one group have different mean\")\n",
        "else:\n",
        "    print(\"Fail to reject H0\")\n",
        "    print(\"All groups have same mean\")"
      ],
      "metadata": {
        "id": "Gjemw_HMVbWf"
      },
      "execution_count": null,
      "outputs": []
    },
    {
      "cell_type": "code",
      "source": [
        "from scipy.stats import kruskal\n",
        "\n",
        "stat, p_value = kruskal(income_g1, income_g2, income_g3)\n",
        "\n",
        "print(\"test statistic:\",stat)\n",
        "print(\"p_value:\",p_value)\n",
        "\n",
        "if p_value < 0.05:\n",
        "    print(\"Reject H0\")\n",
        "    print(\"Atleast one group have different median\")\n",
        "else:\n",
        "    print(\"Fail to reject H0\")\n",
        "    print(\"All groups have same median\")\n",
        "\n",
        "\n",
        "# If assumptions of ANOVA fail, use kruskal\n",
        "stat, p_value = kruskal(income_kp281, income_kp481, income_kp781)\n",
        "\n",
        "print(\"test statistic:\",stat)\n",
        "print(\"p_value:\",p_value)\n",
        "\n",
        "if p_value < 0.05:\n",
        "    print(\"Reject H0\")\n",
        "    print(\"Atleast one group have different median\")\n",
        "else:\n",
        "    print(\"Fail to reject H0\")\n",
        "    print(\"All groups have same median\")"
      ],
      "metadata": {
        "id": "ximl4qI4jHZb"
      },
      "execution_count": null,
      "outputs": []
    },
    {
      "cell_type": "code",
      "source": [
        "qqplot(height, line=\"s\")\n",
        "plt.show()"
      ],
      "metadata": {
        "id": "wfoFVkPvjHc5"
      },
      "execution_count": null,
      "outputs": []
    },
    {
      "cell_type": "code",
      "source": [
        "from scipy.stats import shapiro # Test Gaussian (50 to 200 samples)\n",
        "\n",
        "np.random.sample(42)\n",
        "height_subset = height.sample(100)\n",
        "\n",
        "test_stat, p_value = shapiro(height_subset)\n",
        "print(p_value)\n",
        "\n",
        "if p_value < 0.05:\n",
        "    print(\"Reject H0\")\n",
        "    print(\"Data is not Gaussian\")\n",
        "else:\n",
        "    print(\"Fail to reject H0\")\n",
        "    print(\"Data is Gaussian\")"
      ],
      "metadata": {
        "id": "g0G-WxbWjHhx"
      },
      "execution_count": null,
      "outputs": []
    },
    {
      "cell_type": "code",
      "source": [
        "from scipy.stats import levene # Test variance\n",
        "\n",
        "levene_stat, p_value = levene(height_men, height_women)\n",
        "if p_value < 0.05:\n",
        "    print(\"Variances are not equal\")"
      ],
      "metadata": {
        "id": "w00vm5Qhk_-w"
      },
      "execution_count": null,
      "outputs": []
    },
    {
      "cell_type": "code",
      "source": [
        "# Two-way Anova\n",
        "\n",
        "!pip install pingouin\n",
        "\n",
        "# Import the library\n",
        "import pingouin as pg\n",
        "\n",
        "model = pg.anova(data = df, dv = 'Test_values', between = [\"Dietary\",\"Supplement_Dosage\"],ss_type=2)\n",
        "model"
      ],
      "metadata": {
        "id": "W0hjaX3TlAMV"
      },
      "execution_count": null,
      "outputs": []
    },
    {
      "cell_type": "code",
      "source": [
        "# Another wat of two-way anova\n",
        "\n",
        "import statsmodels.api as sm\n",
        "from statsmodels.formula.api import ols\n",
        "\n",
        "\n",
        "model = ols('Test_values ~ C(Supplement_Dosage) * C(Dietary)', data=df).fit()\n",
        "\n",
        "anova_table = sm.stats.anova_lm(model, typ=2)\n",
        "\n",
        "print(anova_table)"
      ],
      "metadata": {
        "id": "PCvqryYolAY9"
      },
      "execution_count": null,
      "outputs": []
    },
    {
      "cell_type": "code",
      "source": [
        "from scipy import stats\n",
        "\n",
        "statistic, p_value =  stats.kstest(d1, d2)\n",
        "print(\"KS Statistic:\", statistic)\n",
        "print(\"P-value:\", p_value)\n",
        "\n",
        "# Check if the p-value is greater than 0.01\n",
        "if p_value > 0.01:\n",
        "    print(\"The p-value is greater than 0.01,two samples have the same distribution.\")\n",
        "else:\n",
        "    print(\"The p-value is less than or equal to 0.01, two samples have different distributions.\")"
      ],
      "metadata": {
        "id": "NbSCG3FpjHpG"
      },
      "execution_count": null,
      "outputs": []
    },
    {
      "cell_type": "code",
      "source": [
        "# KS-test distribution plot\n",
        "\n",
        "plt.grid()\n",
        "a = plt.hist(data1, bins=100, cumulative=True, label='CDF', density=True, histtype='step')\n",
        "b = plt.hist(data2, bins=100, cumulative=True, label='CDF', density=True, histtype='step')\n",
        "plt.show()"
      ],
      "metadata": {
        "id": "ETW3lQcLOymE"
      },
      "execution_count": null,
      "outputs": []
    },
    {
      "cell_type": "code",
      "source": [
        "# Heat-map\n",
        "\n",
        "import seaborn as sns\n",
        "import matplotlib.pyplot as plt\n",
        "\n",
        "sns.set(font_scale=1.0)\n",
        "plt.figure(figsize=(10,8))\n",
        "correlation_values = df.corr(method = 'pearson')\n",
        "sns.heatmap(correlation_values, vmax = .6, linewidths=0.01, square=True, annot=True, cmap=\"RdBu\", linecolor=\"black\")\n",
        "plt.title('Correlation between features');"
      ],
      "metadata": {
        "id": "q5BVEdyBOyps"
      },
      "execution_count": null,
      "outputs": []
    },
    {
      "cell_type": "code",
      "source": [
        "from scipy.stats import pearsonr, spearmanr\n",
        "\n",
        "pearsonr(df_hw[\"Height\"], df_hw[\"Weight\"])\n",
        "\n",
        "spearmanr(df_hw[\"Height\"], df_hw[\"Weight\"])"
      ],
      "metadata": {
        "id": "iYiH2RphOyyG"
      },
      "execution_count": null,
      "outputs": []
    },
    {
      "cell_type": "code",
      "source": [],
      "metadata": {
        "id": "lIl5UwbeOy_x"
      },
      "execution_count": null,
      "outputs": []
    }
  ]
}